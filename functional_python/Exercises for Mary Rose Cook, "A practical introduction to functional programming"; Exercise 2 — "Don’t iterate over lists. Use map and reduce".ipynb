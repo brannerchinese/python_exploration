{
 "metadata": {
  "name": ""
 },
 "nbformat": 3,
 "nbformat_minor": 0,
 "worksheets": [
  {
   "cells": [
    {
     "cell_type": "code",
     "collapsed": false,
     "input": [
      "# http://maryrosecook.com/blog/post/a-practical-introduction-to-functional-programming\n",
      "# In py3k, py2's reduce() has moved to functools.reduce()\n",
      "import functools\n",
      "functools.reduce(lambda a, x: a + x, [0, 1, 2, 3, 4])"
     ],
     "language": "python",
     "metadata": {},
     "outputs": [
      {
       "metadata": {},
       "output_type": "pyout",
       "prompt_number": 1,
       "text": [
        "10"
       ]
      }
     ],
     "prompt_number": 1
    },
    {
     "cell_type": "code",
     "collapsed": false,
     "input": [
      "people = [{'name': 'Mary', 'height': 160},\n",
      "          {'name': 'Isla', 'height': 80},\n",
      "          {'name': 'Sam'}]\n",
      "# The sum of existing heights can be figured as:\n",
      "functools.reduce(\n",
      "        lambda total_height, person: total_height + (\n",
      "                person['height'] if 'height' in person else 0\n",
      "                ), people, 0\n",
      "        )"
     ],
     "language": "python",
     "metadata": {},
     "outputs": [
      {
       "metadata": {},
       "output_type": "pyout",
       "prompt_number": 2,
       "text": [
        "240"
       ]
      }
     ],
     "prompt_number": 2
    },
    {
     "cell_type": "code",
     "collapsed": false,
     "input": [
      "# The number of members of people with attribute height is:\n",
      "functools.reduce(\n",
      "        lambda total_persons, person: total_persons + (\n",
      "                1 if 'height' in person else 0\n",
      "                ), people, 0\n",
      "        )"
     ],
     "language": "python",
     "metadata": {},
     "outputs": [
      {
       "metadata": {},
       "output_type": "pyout",
       "prompt_number": 3,
       "text": [
        "2"
       ]
      }
     ],
     "prompt_number": 3
    },
    {
     "cell_type": "code",
     "collapsed": false,
     "input": [
      "# These two values can be used to find an average, \n",
      "# but only after reduce() is complete. \n",
      "total_height = functools.reduce(\n",
      "        lambda total_height, person: total_height + (\n",
      "                person['height'] if 'height' in person else 0\n",
      "                ), people, 0\n",
      "        ) \n",
      "total_persons = functools.reduce(\n",
      "        lambda total_persons, person: total_persons + (\n",
      "                1 if 'height' in person else 0\n",
      "                ), people, 0\n",
      "        )\n",
      "total_height / total_persons if total_persons else 0"
     ],
     "language": "python",
     "metadata": {},
     "outputs": [
      {
       "metadata": {},
       "output_type": "pyout",
       "prompt_number": 4,
       "text": [
        "120.0"
       ]
      }
     ],
     "prompt_number": 4
    },
    {
     "cell_type": "code",
     "collapsed": false,
     "input": [
      "# Is there a way to combine the two in a single reduce() expression?\n",
      "#\n",
      "# I have used `if` instead of `filter`, just as I used a comprehension instead\n",
      "# of `map` earlier. My solution is less thoroughly functional, but I think \n",
      "# `if` is more readable. These issues have been called \"somewhat religious\" \n",
      "# see http://stackoverflow.com/a/3013722/621762, accessed 20140323)."
     ],
     "language": "python",
     "metadata": {},
     "outputs": [],
     "prompt_number": 5
    },
    {
     "cell_type": "code",
     "collapsed": false,
     "input": [
      "# Template for `filter`:\n",
      "# filter(lambda x: <condition>, <iterable>)\n",
      "#\n",
      "# comparable to\n",
      "# [x for x in <iterable> if <condition>]"
     ],
     "language": "python",
     "metadata": {},
     "outputs": []
    },
    {
     "cell_type": "code",
     "collapsed": false,
     "input": [
      "# Question: The blog-post mentions `find`; is that `mmap.mmap.find()`?\n",
      "# (http://docs.python.org/3.4/library/mmap.html?highlight=find#mmap.mmap.find)"
     ],
     "language": "python",
     "metadata": {},
     "outputs": [],
     "prompt_number": 6
    },
    {
     "cell_type": "code",
     "collapsed": false,
     "input": [],
     "language": "python",
     "metadata": {},
     "outputs": []
    }
   ],
   "metadata": {}
  }
 ]
}