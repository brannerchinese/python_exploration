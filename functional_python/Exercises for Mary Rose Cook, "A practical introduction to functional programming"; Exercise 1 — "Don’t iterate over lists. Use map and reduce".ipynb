{
 "metadata": {
  "name": ""
 },
 "nbformat": 3,
 "nbformat_minor": 0,
 "worksheets": [
  {
   "cells": [
    {
     "cell_type": "code",
     "collapsed": false,
     "input": [
      "# http://maryrosecook.com/blog/post/a-practical-introduction-to-functional-programming\n",
      "names = ['Mary', 'Isla', 'Sam']\n",
      "# When I see this problem, my instinct is to use a comprehension:\n",
      "[hash(name) for name in names]"
     ],
     "language": "python",
     "metadata": {},
     "outputs": []
    },
    {
     "cell_type": "code",
     "collapsed": false,
     "input": [
      "# But the poster recommends `map()`.\n",
      "# In py3k, however, a map is an iterator, rather than a list:\n",
      "map(hash, names)"
     ],
     "language": "python",
     "metadata": {},
     "outputs": [
      {
       "metadata": {},
       "output_type": "pyout",
       "prompt_number": 2,
       "text": [
        "<builtins.map at 0x103bdd828>"
       ]
      }
     ],
     "prompt_number": 2
    },
    {
     "cell_type": "code",
     "collapsed": false,
     "input": [
      "# To condense to list form, use list():\n",
      "list(map(hash, names))"
     ],
     "language": "python",
     "metadata": {},
     "outputs": [
      {
       "metadata": {},
       "output_type": "pyout",
       "prompt_number": 3,
       "text": [
        "[-1818562369709622544, 2527424177114485753, 8494441754970647969]"
       ]
      }
     ],
     "prompt_number": 3
    },
    {
     "cell_type": "code",
     "collapsed": false,
     "input": [
      "list(map(hash, names)) == [hash(name) for name in names]"
     ],
     "language": "python",
     "metadata": {},
     "outputs": [
      {
       "metadata": {},
       "output_type": "pyout",
       "prompt_number": 4,
       "text": [
        "True"
       ]
      }
     ],
     "prompt_number": 4
    },
    {
     "cell_type": "code",
     "collapsed": false,
     "input": [
      "# The Python documentation prescribes comprehensions over `map()`:\n",
      "# http://docs.python.org/3.0/whatsnew/3.0.html#views-and-iterators-instead-of-lists"
     ],
     "language": "python",
     "metadata": {},
     "outputs": []
    }
   ],
   "metadata": {}
  }
 ]
}