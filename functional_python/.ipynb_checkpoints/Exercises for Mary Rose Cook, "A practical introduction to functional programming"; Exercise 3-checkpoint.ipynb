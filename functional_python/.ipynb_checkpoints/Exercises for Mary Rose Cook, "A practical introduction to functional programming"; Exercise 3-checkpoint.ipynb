{
 "metadata": {
  "name": ""
 },
 "nbformat": 3,
 "nbformat_minor": 0,
 "worksheets": [
  {
   "cells": [
    {
     "cell_type": "code",
     "collapsed": false,
     "input": [
      "from random import random\n",
      "\n",
      "time = 5\n",
      "car_positions = [1, 1, 1]\n",
      "\n",
      "while time:\n",
      "    # decrease time\n",
      "    time -= 1\n",
      "\n",
      "    print('')\n",
      "    for i in range(len(car_positions)):\n",
      "        # move car\n",
      "        if random() > 0.3:\n",
      "            car_positions[i] += 1\n",
      "\n",
      "        # draw car\n",
      "        print('-' * car_positions[i])"
     ],
     "language": "python",
     "metadata": {},
     "outputs": [
      {
       "output_type": "stream",
       "stream": "stdout",
       "text": [
        "\n",
        "--\n",
        "-\n",
        "-\n",
        "\n",
        "---\n",
        "--\n",
        "--\n",
        "\n",
        "---\n",
        "---\n",
        "---\n",
        "\n",
        "----\n",
        "----\n",
        "----\n",
        "\n",
        "-----\n",
        "----\n",
        "-----\n"
       ]
      }
     ],
     "prompt_number": 1
    },
    {
     "cell_type": "code",
     "collapsed": false,
     "input": [
      "# I don't understand why making a procedural program more modular makes\n",
      "# any less imperative and more declarative. "
     ],
     "language": "python",
     "metadata": {},
     "outputs": []
    }
   ],
   "metadata": {}
  }
 ]
}