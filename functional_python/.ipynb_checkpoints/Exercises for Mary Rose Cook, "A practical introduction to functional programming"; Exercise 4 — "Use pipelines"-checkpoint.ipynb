{
 "metadata": {
  "name": ""
 },
 "nbformat": 3,
 "nbformat_minor": 0,
 "worksheets": [
  {
   "cells": [
    {
     "cell_type": "code",
     "collapsed": false,
     "input": [
      "# http://maryrosecook.com/blog/post/a-practical-introduction-to-functional-programming\n",
      "bands = [{'name': 'sunset rubdown', 'country': 'UK', 'active': False},\n",
      "         {'name': 'women', 'country': 'Germany', 'active': False},\n",
      "         {'name': 'a silver mt. zion', 'country': 'Spain', 'active': True}]\n",
      "\n",
      "def assoc(_d, key, value):\n",
      "    from copy import deepcopy\n",
      "    d = deepcopy(_d)\n",
      "    d[key] = value\n",
      "    return d\n",
      "\n",
      "def set_canada_as_country(band):\n",
      "    return assoc(band, 'country', \"Canada\")\n",
      "\n",
      "def strip_punctuation_from_name(band):\n",
      "    return assoc(band, 'name', band['name'].replace('.', ''))\n",
      "\n",
      "def capitalize_names(band):\n",
      "    return assoc(band, 'name', band['name'].title())"
     ],
     "language": "python",
     "metadata": {},
     "outputs": [],
     "prompt_number": 5
    },
    {
     "cell_type": "code",
     "collapsed": false,
     "input": [
      "def pipeline_each(items, functions):\n",
      "    for function in functions:\n",
      "        items = list(map(function, items))\n",
      "    return items"
     ],
     "language": "python",
     "metadata": {},
     "outputs": [],
     "prompt_number": 6
    },
    {
     "cell_type": "code",
     "collapsed": false,
     "input": [
      "pipeline_each(bands, [set_canada_as_country, strip_punctuation_from_name,\n",
      "        capitalize_names]) == [\n",
      "            {'name': 'Sunset Rubdown', 'active': False, 'country': 'Canada'},\n",
      "            {'name': 'Women', 'active': False, 'country': 'Canada' },\n",
      "            {'name': 'A Silver Mt Zion', 'active': True, 'country': 'Canada'}]"
     ],
     "language": "python",
     "metadata": {},
     "outputs": [
      {
       "metadata": {},
       "output_type": "pyout",
       "prompt_number": 7,
       "text": [
        "True"
       ]
      }
     ],
     "prompt_number": 7
    },
    {
     "cell_type": "code",
     "collapsed": false,
     "input": [],
     "language": "python",
     "metadata": {},
     "outputs": []
    }
   ],
   "metadata": {}
  }
 ]
}