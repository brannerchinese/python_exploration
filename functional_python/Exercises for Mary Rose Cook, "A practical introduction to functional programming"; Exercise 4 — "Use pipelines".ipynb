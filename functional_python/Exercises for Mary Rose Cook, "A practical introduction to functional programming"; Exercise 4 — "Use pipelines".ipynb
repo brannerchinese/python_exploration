{
 "metadata": {
  "name": ""
 },
 "nbformat": 3,
 "nbformat_minor": 0,
 "worksheets": [
  {
   "cells": [
    {
     "cell_type": "code",
     "collapsed": false,
     "input": [
      "# http://maryrosecook.com/blog/post/a-practical-introduction-to-functional-programming\n",
      "bands = [{'name': 'sunset rubdown', 'country': 'UK', 'active': False},\n",
      "         {'name': 'women', 'country': 'Germany', 'active': False},\n",
      "         {'name': 'a silver mt. zion', 'country': 'Spain', 'active': True}]\n",
      "expected_answer = [\n",
      "        {'name': 'Sunset Rubdown', 'active': False, 'country': 'Canada'},\n",
      "        {'name': 'Women', 'active': False, 'country': 'Canada' },\n",
      "        {'name': 'A Silver Mt Zion', 'active': True, 'country': 'Canada'}]\n",
      "\n",
      "def assoc(_d, key, value):\n",
      "    from copy import deepcopy\n",
      "    d = deepcopy(_d)\n",
      "    d[key] = value\n",
      "    return d\n",
      "\n",
      "def set_canada_as_country(band):\n",
      "    return assoc(band, 'country', \"Canada\")\n",
      "\n",
      "def strip_punctuation_from_name(band):\n",
      "    return assoc(band, 'name', band['name'].replace('.', ''))\n",
      "\n",
      "def capitalize_names(band):\n",
      "    return assoc(band, 'name', band['name'].title())\n",
      "\n",
      "functions = [\n",
      "        set_canada_as_country, \n",
      "        strip_punctuation_from_name, \n",
      "        capitalize_names]"
     ],
     "language": "python",
     "metadata": {},
     "outputs": [],
     "prompt_number": 1
    },
    {
     "cell_type": "code",
     "collapsed": false,
     "input": [
      "# First place functional mapping within procedural frame (for-loop):\n",
      "def pipeline_each1(bands, functions):\n",
      "    for function in functions:\n",
      "        items = list(map(function, bands))\n",
      "    return items"
     ],
     "language": "python",
     "metadata": {},
     "outputs": [],
     "prompt_number": 2
    },
    {
     "cell_type": "code",
     "collapsed": false,
     "input": [
      "pipeline_each1(bands, functions) == expected_answer"
     ],
     "language": "python",
     "metadata": {},
     "outputs": [
      {
       "metadata": {},
       "output_type": "pyout",
       "prompt_number": 3,
       "text": [
        "True"
       ]
      }
     ],
     "prompt_number": 3
    },
    {
     "cell_type": "code",
     "collapsed": false,
     "input": [
      "# Now replace procedural frame with functional reduce.\n",
      "# `band` comes before `function in the `reduce` lambda below because\n",
      "# `function` has the successive values of iterating through `functions`;\n",
      "# why do we use `bands` as the \n",
      "# the \"initializer\" (variable being updated, listed as third argument)?: \n",
      "import functools\n",
      "def pipeline_each2(bands, functions):\n",
      "    return list(\n",
      "            functools.reduce(lambda band, function: \n",
      "                    map(function, band), \n",
      "                    functions, bands)\n",
      "            )\n",
      "pipeline_each1(bands, functions) == pipeline_each2(bands, functions)"
     ],
     "language": "python",
     "metadata": {},
     "outputs": [
      {
       "metadata": {},
       "output_type": "pyout",
       "prompt_number": 4,
       "text": [
        "True"
       ]
      }
     ],
     "prompt_number": 4
    },
    {
     "cell_type": "code",
     "collapsed": false,
     "input": [
      "# General template:\n",
      "# functools.reduce(lambda first, iterations:\n",
      "#         first = fn(first, iterations),\n",
      "#             <list encompassing first and all successive>,\n",
      "#             initializer)"
     ],
     "language": "python",
     "metadata": {},
     "outputs": []
    }
   ],
   "metadata": {}
  }
 ]
}